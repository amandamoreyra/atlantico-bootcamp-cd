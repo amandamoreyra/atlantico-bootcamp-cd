{
 "cells": [
  {
   "cell_type": "markdown",
   "metadata": {},
   "source": [
    "# Codificação de variáveis textuais"
   ]
  },
  {
   "cell_type": "markdown",
   "metadata": {},
   "source": [
    "## 1. Explicação: Por que codificar variáveis textuais?"
   ]
  },
  {
   "cell_type": "markdown",
   "metadata": {},
   "source": [
    "As variáveis textuais são formatos de dados de difícil aplicação em modelos estatísticos e de machine learning. Por isso, comumente são transformadas em informações numéricas tornando possível seu uso em modelos. Existe maneiras bastantes populares e simples de se fazer isso, a exemplo o *Bag of Words (BoW)* e o *TF-IDF*, detalhados a seguir."
   ]
  },
  {
   "cell_type": "markdown",
   "metadata": {},
   "source": [
    "###    1.1. *Bag of Words (BoW)*"
   ]
  },
  {
   "cell_type": "markdown",
   "metadata": {},
   "source": [
    "É um formato de representação textual cujo objetivo é transformar um conjunto de palavras em uma matriz numérica de frequência. Embora muito utilizado para determinar as palavras significativas de um texto, o BoW têm como desvantagens a geração de uma matriz esparsa quando trabalhamos com um conjunto grande de dados e a perda do significado semântico da palavra. Conforme [koji et al. (2020)](https://medium.com/turing-talks/introdu%C3%A7%C3%A3o-a-bag-of-words-e-tf-idf-43a128151ce9), sua aplicação requer a realização de alguns passos, sendo:\n",
    "1. Seleção do conjunto de dados;\n",
    "2. Pré-processamento dos dados. Ex: padronização das letras em minúsculo e tokenização do texto transformando cada palavra da frase em uma string individual. \n",
    "3. Geração do vocábulário que independe da ordem ou estrutura da palavra no texto; \n",
    "4. Criação de vetores a partir do documento. O vetor é preenchido com números para representar o conjunto inicial de dados, podendo receber um valor booleano ou outro que preferir."
   ]
  },
  {
   "cell_type": "markdown",
   "metadata": {},
   "source": [
    "### 1.2. *Term Frequency Inverse Document Frequency (TF-IDF)*"
   ]
  },
  {
   "cell_type": "markdown",
   "metadata": {},
   "source": [
    "Trata-se de uma medida estatística que mede a relevância da palavra no texto, analisando a frequência com que aparece em um documento quando comparada a sua frequência em um conjunto maior. Logo, se uma palavra está presente em todos os conjuntos analisados não podemos atribuir a ela grande relevância, assim como também se ela ocorrer poucas vezes [(SANTOS, 2017)](https://www.computersciencemaster.com.br/term-frequency-e-term-frequency-inverse-document-frequency/). Para tanto, o TF-IDF utiliza uma razão inversa para calcular a frequência destes termos, dado por:\n",
    "\n",
    "TF-IDF = TF x IDF\n",
    "\n",
    "Em que:\n",
    "- TF(t) = (Número de vezes que t aparece no documento) / (Número total de termos no documento).\n",
    "- IDF(t) = log_e(Número total de termos do documento/ Número de documentos que possuem o termo t).\n",
    "\n",
    "\n",
    "A aplicação do TF-IDF requer o atendimento de algumas etapas, sendo:\n",
    "\n",
    "1. Seleção e pré-processamento do conjunto de dados;\n",
    "2. Geração do vocabulário;\n",
    "3. Geração de um dicionário de frequência com pesos a partir do IDF;\n",
    "4. Aplicação do IDF as frases;\n",
    "5. Tranformação em um array."
   ]
  },
  {
   "cell_type": "markdown",
   "metadata": {},
   "source": [
    "## 2. Aplicação do *BoW* e *TF-IDF* "
   ]
  },
  {
   "cell_type": "markdown",
   "metadata": {},
   "source": [
    "### 2.1. Pré-processamento de dados"
   ]
  },
  {
   "cell_type": "code",
   "execution_count": 97,
   "metadata": {},
   "outputs": [
    {
     "name": "stdout",
     "output_type": "stream",
     "text": [
      "['john likes', 'likes to', 'to watch', 'watch movies', 'mary likes', 'likes movies', 'movies too']\n"
     ]
    }
   ],
   "source": [
    "frases = [\n",
    "          \"John likes\",\n",
    "          \"likes to\",\n",
    "          \"to watch\",\n",
    "          \"watch movies\",\n",
    "          \"Mary likes\",\n",
    "          \"likes movies\",\n",
    "          \"movies too\",\n",
    "          ]\n",
    "\n",
    "# Modifica o formato das letras dos elementos da lista para minúsculas\n",
    "frases = list(map(lambda x: x.lower(), frases))\n",
    "print (frases)"
   ]
  },
  {
   "cell_type": "markdown",
   "metadata": {},
   "source": [
    "### 2.2. Aplicação do *Bag of words*"
   ]
  },
  {
   "cell_type": "markdown",
   "metadata": {},
   "source": [
    "#### Carregar biblioteca"
   ]
  },
  {
   "cell_type": "code",
   "execution_count": null,
   "metadata": {},
   "outputs": [],
   "source": [
    "from sklearn.feature_extraction.text import CountVectorizer"
   ]
  },
  {
   "cell_type": "code",
   "execution_count": 103,
   "metadata": {},
   "outputs": [
    {
     "name": "stdout",
     "output_type": "stream",
     "text": [
      "Vocabulário: {'john': 0, 'likes': 1, 'to': 4, 'watch': 6, 'movies': 3, 'mary': 2, 'too': 5} \n",
      "\n",
      "[[1 1 0 0 0 0 0]\n",
      " [0 1 0 0 1 0 0]\n",
      " [0 0 0 0 1 0 1]\n",
      " [0 0 0 1 0 0 1]\n",
      " [0 1 1 0 0 0 0]\n",
      " [0 1 0 1 0 0 0]\n",
      " [0 0 0 1 0 1 0]]\n"
     ]
    }
   ],
   "source": [
    "# Cria o vetorizador de dados\n",
    "vectorizer = CountVectorizer()\n",
    "\n",
    "# Aplica vetorizador de dados e gera a frequência dos termos\n",
    "vectorizer.fit(frases)\n",
    "\n",
    "# Imprime o vocabulário\n",
    "print ('Vocabulário:', vectorizer.vocabulary_, '\\n')\n",
    "\n",
    "# Aplicando transformador de matriz de frequência\n",
    "matrix = vectorizer.transform(frases)\n",
    "\n",
    "# Imprimindo a matriz binária\n",
    "print (matrix.toarray())"
   ]
  },
  {
   "cell_type": "markdown",
   "metadata": {},
   "source": [
    "### 2.3. Aplicação do *TF-IDF*\n"
   ]
  },
  {
   "cell_type": "markdown",
   "metadata": {},
   "source": [
    "### Carregar biblioteca"
   ]
  },
  {
   "cell_type": "code",
   "execution_count": 100,
   "metadata": {},
   "outputs": [],
   "source": [
    "from sklearn.feature_extraction.text import TfidfVectorizer"
   ]
  },
  {
   "cell_type": "code",
   "execution_count": 101,
   "metadata": {},
   "outputs": [
    {
     "name": "stdout",
     "output_type": "stream",
     "text": [
      "TfidfVectorizer() \n",
      "\n",
      "Vocabulário: {'john': 0, 'likes': 1, 'to': 4, 'watch': 6, 'movies': 3, 'mary': 2, 'too': 5} \n",
      "\n",
      "IDF: [2.38629436 1.47000363 2.38629436 1.69314718 1.98082925 2.38629436\n",
      " 1.98082925] \n",
      "\n",
      "Shape: (7, 7) \n",
      "\n",
      "[[0.85141699 0.52448938 0.         0.         0.         0.\n",
      "  0.        ]\n",
      " [0.         0.59594003 0.         0.         0.80302894 0.\n",
      "  0.        ]\n",
      " [0.         0.         0.         0.         0.70710678 0.\n",
      "  0.70710678]\n",
      " [0.         0.         0.         0.64974959 0.         0.\n",
      "  0.76014832]\n",
      " [0.         0.52448938 0.85141699 0.         0.         0.\n",
      "  0.        ]\n",
      " [0.         0.65559486 0.         0.75511282 0.         0.\n",
      "  0.        ]\n",
      " [0.         0.         0.         0.57866699 0.         0.81556393\n",
      "  0.        ]]\n"
     ]
    }
   ],
   "source": [
    "# Instancia o objeto TF-IDF\n",
    "vectorizer = TfidfVectorizer()\n",
    "\n",
    "# Aplica vetorizador de dados\n",
    "print (vectorizer.fit(frases), '\\n')\n",
    "\n",
    "# Imprime o vocabulário e sua frequência\n",
    "print ('Vocabulário:', vectorizer.vocabulary_, '\\n')\n",
    "\n",
    "# Imprime o IDF - pontuação que cada palavra recebeu.\n",
    "#Quanto mais frequente a palavra, menos relevante ela é para o IDF.\n",
    "print ('IDF:', vectorizer.idf_, '\\n')\n",
    "\n",
    "# Aplicando transformador aos dados\n",
    "matrix = vectorizer.transform(frases)\n",
    "\n",
    "# Imprime a forma da matriz\n",
    "print ('Shape:', matrix.shape, '\\n')\n",
    "\n",
    "# Transformando em um array\n",
    "print (matrix.toarray())"
   ]
  },
  {
   "cell_type": "code",
   "execution_count": 70,
   "metadata": {},
   "outputs": [
    {
     "name": "stdout",
     "output_type": "stream",
     "text": [
      "[[0.85141699 0.52448938 0.         0.         0.         0.\n",
      "  0.        ]]\n"
     ]
    }
   ],
   "source": [
    "# Aplicação em apenas uma frase para melhor visualização\n",
    "matrix = vectorizer.transform([frases[0]])\n",
    "print (matrix.toarray())"
   ]
  }
 ],
 "metadata": {
  "kernelspec": {
   "display_name": "Python 3",
   "language": "python",
   "name": "python3"
  },
  "language_info": {
   "codemirror_mode": {
    "name": "ipython",
    "version": 3
   },
   "file_extension": ".py",
   "mimetype": "text/x-python",
   "name": "python",
   "nbconvert_exporter": "python",
   "pygments_lexer": "ipython3",
   "version": "3.8.5"
  }
 },
 "nbformat": 4,
 "nbformat_minor": 5
}
