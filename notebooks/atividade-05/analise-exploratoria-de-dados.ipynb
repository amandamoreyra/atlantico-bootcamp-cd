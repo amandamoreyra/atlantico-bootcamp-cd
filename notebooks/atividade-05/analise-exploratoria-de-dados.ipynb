{
 "cells": [
  {
   "cell_type": "markdown",
   "id": "2cc2fc55-1b20-4eba-9345-38343edc529f",
   "metadata": {},
   "source": [
    "# Análise exploratória de dados"
   ]
  },
  {
   "cell_type": "markdown",
   "id": "2519b3c4-2946-4e88-b63c-4136212f4e6f",
   "metadata": {},
   "source": [
    "Estatística descritiva e Visualização de dados\n",
    "\n",
    "Conjunto de dados: \"Forbes Highest Paid Athletes 1990-2020\""
   ]
  },
  {
   "cell_type": "markdown",
   "id": "8fd1e3db-b131-42cb-bf02-06ef2b9e243b",
   "metadata": {},
   "source": [
    "## Carregar bibliotecas"
   ]
  },
  {
   "cell_type": "code",
   "execution_count": 549,
   "id": "c618f9ca-040f-4f9c-b445-649721576c3a",
   "metadata": {},
   "outputs": [],
   "source": [
    "from matplotlib import pyplot as plt\n",
    "import seaborn as sns\n",
    "import pandas as pd "
   ]
  },
  {
   "cell_type": "markdown",
   "id": "32bc893e-028f-4976-8a7d-844ceaf90cd3",
   "metadata": {},
   "source": [
    "## Dicionário de dados"
   ]
  },
  {
   "cell_type": "code",
   "execution_count": 550,
   "id": "487a45af-8461-4c49-b20d-4b9fa528863f",
   "metadata": {},
   "outputs": [
    {
     "data": {
      "text/html": [
       "<style type=\"text/css\">\n",
       "#T_70402_row0_col0, #T_70402_row0_col1, #T_70402_row0_col2, #T_70402_row1_col0, #T_70402_row1_col1, #T_70402_row1_col2, #T_70402_row2_col0, #T_70402_row2_col1, #T_70402_row2_col2, #T_70402_row3_col0, #T_70402_row3_col1, #T_70402_row3_col2, #T_70402_row4_col0, #T_70402_row4_col1, #T_70402_row4_col2, #T_70402_row5_col0, #T_70402_row5_col1, #T_70402_row5_col2, #T_70402_row6_col0, #T_70402_row6_col1, #T_70402_row6_col2, #T_70402_row7_col0, #T_70402_row7_col1, #T_70402_row7_col2 {\n",
       "  text-align: left;\n",
       "}\n",
       "</style>\n",
       "<table id=\"T_70402\">\n",
       "  <thead>\n",
       "    <tr>\n",
       "      <th class=\"blank level0\" >&nbsp;</th>\n",
       "      <th id=\"T_70402_level0_col0\" class=\"col_heading level0 col0\" >variaveis</th>\n",
       "      <th id=\"T_70402_level0_col1\" class=\"col_heading level0 col1\" >significado</th>\n",
       "      <th id=\"T_70402_level0_col2\" class=\"col_heading level0 col2\" >tipo</th>\n",
       "    </tr>\n",
       "  </thead>\n",
       "  <tbody>\n",
       "    <tr>\n",
       "      <th id=\"T_70402_level0_row0\" class=\"row_heading level0 row0\" >0</th>\n",
       "      <td id=\"T_70402_row0_col0\" class=\"data row0 col0\" >S.NO</td>\n",
       "      <td id=\"T_70402_row0_col1\" class=\"data row0 col1\" >Contador</td>\n",
       "      <td id=\"T_70402_row0_col2\" class=\"data row0 col2\" >nominal</td>\n",
       "    </tr>\n",
       "    <tr>\n",
       "      <th id=\"T_70402_level0_row1\" class=\"row_heading level0 row1\" >1</th>\n",
       "      <td id=\"T_70402_row1_col0\" class=\"data row1 col0\" >Name</td>\n",
       "      <td id=\"T_70402_row1_col1\" class=\"data row1 col1\" >Nome do atleta</td>\n",
       "      <td id=\"T_70402_row1_col2\" class=\"data row1 col2\" >nominal</td>\n",
       "    </tr>\n",
       "    <tr>\n",
       "      <th id=\"T_70402_level0_row2\" class=\"row_heading level0 row2\" >2</th>\n",
       "      <td id=\"T_70402_row2_col0\" class=\"data row2 col0\" >Nationality</td>\n",
       "      <td id=\"T_70402_row2_col1\" class=\"data row2 col1\" >País de nascimento ['USA', 'Brazil', 'France', 'Australia', 'Canada', 'UK', 'Austria', 'Germany', 'Russia', 'Italy', 'Finland', 'Switzerland', 'Philippines', 'Portugal', 'Dominican', 'Argentina', 'Filipino', 'Spain', 'Serbia', 'Northern Ireland', 'Ireland', 'Mexico']</td>\n",
       "      <td id=\"T_70402_row2_col2\" class=\"data row2 col2\" >nominal</td>\n",
       "    </tr>\n",
       "    <tr>\n",
       "      <th id=\"T_70402_level0_row3\" class=\"row_heading level0 row3\" >3</th>\n",
       "      <td id=\"T_70402_row3_col0\" class=\"data row3 col0\" >Current Rank</td>\n",
       "      <td id=\"T_70402_row3_col1\" class=\"data row3 col1\" >Classificação atual do atleta [1, 2, 3, 4, 5, 6, 7, 8, 9, 10]</td>\n",
       "      <td id=\"T_70402_row3_col2\" class=\"data row3 col2\" >ordinal</td>\n",
       "    </tr>\n",
       "    <tr>\n",
       "      <th id=\"T_70402_level0_row4\" class=\"row_heading level0 row4\" >4</th>\n",
       "      <td id=\"T_70402_row4_col0\" class=\"data row4 col0\" >Previous Year Ranking</td>\n",
       "      <td id=\"T_70402_row4_col1\" class=\"data row4 col1\" >Classificação do ano anterior</td>\n",
       "      <td id=\"T_70402_row4_col2\" class=\"data row4 col2\" >nominal</td>\n",
       "    </tr>\n",
       "    <tr>\n",
       "      <th id=\"T_70402_level0_row5\" class=\"row_heading level0 row5\" >5</th>\n",
       "      <td id=\"T_70402_row5_col0\" class=\"data row5 col0\" >Sport</td>\n",
       "      <td id=\"T_70402_row5_col1\" class=\"data row5 col1\" >Esporte praticado ['boxing', 'auto racing', 'golf', 'basketball', 'Basketball', 'Boxing', 'Auto Racing', 'Golf', 'Tennis', 'NFL', 'Auto racing', 'NBA', 'Baseball', 'Ice Hockey', 'American Football / Baseball', 'tennis', 'ice hockey', 'F1 Motorsports', 'NASCAR', 'Hockey', 'Auto Racing (Nascar)', 'F1 racing', 'American Football', 'soccer', 'baseball', 'cycling', 'motorcycle gp', 'Soccer', 'MMA']</td>\n",
       "      <td id=\"T_70402_row5_col2\" class=\"data row5 col2\" >nominal</td>\n",
       "    </tr>\n",
       "    <tr>\n",
       "      <th id=\"T_70402_level0_row6\" class=\"row_heading level0 row6\" >6</th>\n",
       "      <td id=\"T_70402_row6_col0\" class=\"data row6 col0\" >Year</td>\n",
       "      <td id=\"T_70402_row6_col1\" class=\"data row6 col1\" >Ano da competição [1990 - 2020]</td>\n",
       "      <td id=\"T_70402_row6_col2\" class=\"data row6 col2\" >ordinal</td>\n",
       "    </tr>\n",
       "    <tr>\n",
       "      <th id=\"T_70402_level0_row7\" class=\"row_heading level0 row7\" >7</th>\n",
       "      <td id=\"T_70402_row7_col0\" class=\"data row7 col0\" >earnings ($million)</td>\n",
       "      <td id=\"T_70402_row7_col1\" class=\"data row7 col1\" >Ganho em milhões de dólares</td>\n",
       "      <td id=\"T_70402_row7_col2\" class=\"data row7 col2\" >ordinal</td>\n",
       "    </tr>\n",
       "  </tbody>\n",
       "</table>\n"
      ],
      "text/plain": [
       "<pandas.io.formats.style.Styler at 0x7f24921344c0>"
      ]
     },
     "execution_count": 550,
     "metadata": {},
     "output_type": "execute_result"
    }
   ],
   "source": [
    "dicionario_dados = pd.read_csv('../../data/external/dicionario_atividade-05.csv', delimiter = ',')\n",
    "dicionario_dados = dicionario_dados.style.set_properties(**{'text-align': 'left'})\n",
    "dicionario_dados"
   ]
  },
  {
   "cell_type": "markdown",
   "id": "7612c797-8375-483a-8dae-108e0b60ff6f",
   "metadata": {},
   "source": [
    "## Leitura do arquivo de dados"
   ]
  },
  {
   "cell_type": "code",
   "execution_count": 551,
   "id": "91f9764d-0606-4920-9008-9ab739dc7266",
   "metadata": {},
   "outputs": [
    {
     "data": {
      "text/html": [
       "<div>\n",
       "<style scoped>\n",
       "    .dataframe tbody tr th:only-of-type {\n",
       "        vertical-align: middle;\n",
       "    }\n",
       "\n",
       "    .dataframe tbody tr th {\n",
       "        vertical-align: top;\n",
       "    }\n",
       "\n",
       "    .dataframe thead th {\n",
       "        text-align: right;\n",
       "    }\n",
       "</style>\n",
       "<table border=\"1\" class=\"dataframe\">\n",
       "  <thead>\n",
       "    <tr style=\"text-align: right;\">\n",
       "      <th></th>\n",
       "      <th>S.NO</th>\n",
       "      <th>Name</th>\n",
       "      <th>Nationality</th>\n",
       "      <th>Current Rank</th>\n",
       "      <th>Previous Year Rank</th>\n",
       "      <th>Sport</th>\n",
       "      <th>Year</th>\n",
       "      <th>earnings ($ million)</th>\n",
       "    </tr>\n",
       "  </thead>\n",
       "  <tbody>\n",
       "    <tr>\n",
       "      <th>0</th>\n",
       "      <td>1</td>\n",
       "      <td>Mike Tyson</td>\n",
       "      <td>USA</td>\n",
       "      <td>1</td>\n",
       "      <td>NaN</td>\n",
       "      <td>boxing</td>\n",
       "      <td>1990</td>\n",
       "      <td>28.6</td>\n",
       "    </tr>\n",
       "    <tr>\n",
       "      <th>1</th>\n",
       "      <td>2</td>\n",
       "      <td>Buster Douglas</td>\n",
       "      <td>USA</td>\n",
       "      <td>2</td>\n",
       "      <td>NaN</td>\n",
       "      <td>boxing</td>\n",
       "      <td>1990</td>\n",
       "      <td>26.0</td>\n",
       "    </tr>\n",
       "    <tr>\n",
       "      <th>2</th>\n",
       "      <td>3</td>\n",
       "      <td>Sugar Ray Leonard</td>\n",
       "      <td>USA</td>\n",
       "      <td>3</td>\n",
       "      <td>NaN</td>\n",
       "      <td>boxing</td>\n",
       "      <td>1990</td>\n",
       "      <td>13.0</td>\n",
       "    </tr>\n",
       "    <tr>\n",
       "      <th>3</th>\n",
       "      <td>4</td>\n",
       "      <td>Ayrton Senna</td>\n",
       "      <td>Brazil</td>\n",
       "      <td>4</td>\n",
       "      <td>NaN</td>\n",
       "      <td>auto racing</td>\n",
       "      <td>1990</td>\n",
       "      <td>10.0</td>\n",
       "    </tr>\n",
       "    <tr>\n",
       "      <th>4</th>\n",
       "      <td>5</td>\n",
       "      <td>Alain Prost</td>\n",
       "      <td>France</td>\n",
       "      <td>5</td>\n",
       "      <td>NaN</td>\n",
       "      <td>auto racing</td>\n",
       "      <td>1990</td>\n",
       "      <td>9.0</td>\n",
       "    </tr>\n",
       "  </tbody>\n",
       "</table>\n",
       "</div>"
      ],
      "text/plain": [
       "   S.NO               Name Nationality  Current Rank Previous Year Rank  \\\n",
       "0     1         Mike Tyson         USA             1                NaN   \n",
       "1     2     Buster Douglas         USA             2                NaN   \n",
       "2     3  Sugar Ray Leonard         USA             3                NaN   \n",
       "3     4       Ayrton Senna      Brazil             4                NaN   \n",
       "4     5        Alain Prost      France             5                NaN   \n",
       "\n",
       "         Sport  Year  earnings ($ million)  \n",
       "0       boxing  1990                  28.6  \n",
       "1       boxing  1990                  26.0  \n",
       "2       boxing  1990                  13.0  \n",
       "3  auto racing  1990                  10.0  \n",
       "4  auto racing  1990                   9.0  "
      ]
     },
     "execution_count": 551,
     "metadata": {},
     "output_type": "execute_result"
    }
   ],
   "source": [
    "df = pd.read_csv('../../data/raw/Forbes_Richest_Atheletes_Forbes_Richest_Athletes_1990-2020.csv', delimiter = ',')\n",
    "df.Sport = df.Sport.str.lower()\n",
    "df.head()"
   ]
  },
  {
   "cell_type": "markdown",
   "id": "f823b252-d8ea-49dd-b1bf-81e397080204",
   "metadata": {},
   "source": [
    "## Descrição dos dados"
   ]
  },
  {
   "cell_type": "code",
   "execution_count": 552,
   "id": "0849a2cb-e6fc-4085-be71-df725d74f8f2",
   "metadata": {},
   "outputs": [
    {
     "data": {
      "text/html": [
       "<div>\n",
       "<style scoped>\n",
       "    .dataframe tbody tr th:only-of-type {\n",
       "        vertical-align: middle;\n",
       "    }\n",
       "\n",
       "    .dataframe tbody tr th {\n",
       "        vertical-align: top;\n",
       "    }\n",
       "\n",
       "    .dataframe thead th {\n",
       "        text-align: right;\n",
       "    }\n",
       "</style>\n",
       "<table border=\"1\" class=\"dataframe\">\n",
       "  <thead>\n",
       "    <tr style=\"text-align: right;\">\n",
       "      <th></th>\n",
       "      <th>S.NO</th>\n",
       "      <th>Current Rank</th>\n",
       "      <th>Year</th>\n",
       "      <th>earnings ($ million)</th>\n",
       "    </tr>\n",
       "  </thead>\n",
       "  <tbody>\n",
       "    <tr>\n",
       "      <th>count</th>\n",
       "      <td>301.000000</td>\n",
       "      <td>301.000000</td>\n",
       "      <td>301.000000</td>\n",
       "      <td>301.000000</td>\n",
       "    </tr>\n",
       "    <tr>\n",
       "      <th>mean</th>\n",
       "      <td>151.000000</td>\n",
       "      <td>5.448505</td>\n",
       "      <td>2005.122924</td>\n",
       "      <td>45.516279</td>\n",
       "    </tr>\n",
       "    <tr>\n",
       "      <th>std</th>\n",
       "      <td>87.035433</td>\n",
       "      <td>2.850995</td>\n",
       "      <td>9.063563</td>\n",
       "      <td>33.525337</td>\n",
       "    </tr>\n",
       "    <tr>\n",
       "      <th>min</th>\n",
       "      <td>1.000000</td>\n",
       "      <td>1.000000</td>\n",
       "      <td>1990.000000</td>\n",
       "      <td>8.100000</td>\n",
       "    </tr>\n",
       "    <tr>\n",
       "      <th>25%</th>\n",
       "      <td>76.000000</td>\n",
       "      <td>3.000000</td>\n",
       "      <td>1997.000000</td>\n",
       "      <td>24.000000</td>\n",
       "    </tr>\n",
       "    <tr>\n",
       "      <th>50%</th>\n",
       "      <td>151.000000</td>\n",
       "      <td>5.000000</td>\n",
       "      <td>2005.000000</td>\n",
       "      <td>39.000000</td>\n",
       "    </tr>\n",
       "    <tr>\n",
       "      <th>75%</th>\n",
       "      <td>226.000000</td>\n",
       "      <td>8.000000</td>\n",
       "      <td>2013.000000</td>\n",
       "      <td>59.400000</td>\n",
       "    </tr>\n",
       "    <tr>\n",
       "      <th>max</th>\n",
       "      <td>301.000000</td>\n",
       "      <td>10.000000</td>\n",
       "      <td>2020.000000</td>\n",
       "      <td>300.000000</td>\n",
       "    </tr>\n",
       "  </tbody>\n",
       "</table>\n",
       "</div>"
      ],
      "text/plain": [
       "             S.NO  Current Rank         Year  earnings ($ million)\n",
       "count  301.000000    301.000000   301.000000            301.000000\n",
       "mean   151.000000      5.448505  2005.122924             45.516279\n",
       "std     87.035433      2.850995     9.063563             33.525337\n",
       "min      1.000000      1.000000  1990.000000              8.100000\n",
       "25%     76.000000      3.000000  1997.000000             24.000000\n",
       "50%    151.000000      5.000000  2005.000000             39.000000\n",
       "75%    226.000000      8.000000  2013.000000             59.400000\n",
       "max    301.000000     10.000000  2020.000000            300.000000"
      ]
     },
     "execution_count": 552,
     "metadata": {},
     "output_type": "execute_result"
    }
   ],
   "source": [
    "# Estatísticas de cada coluna\n",
    "df.describe() "
   ]
  },
  {
   "cell_type": "code",
   "execution_count": 553,
   "id": "9d4e58ba-d5e1-4ed5-938d-d6ed1d7b04fa",
   "metadata": {},
   "outputs": [
    {
     "data": {
      "text/plain": [
       "(301, 8)"
      ]
     },
     "execution_count": 553,
     "metadata": {},
     "output_type": "execute_result"
    }
   ],
   "source": [
    "# Quantidade de linhas x colunas\n",
    "df.shape "
   ]
  },
  {
   "cell_type": "code",
   "execution_count": 554,
   "id": "2b0a4930-9cb0-4616-ae1a-16d247aa91be",
   "metadata": {},
   "outputs": [
    {
     "data": {
      "text/plain": [
       "Index(['S.NO', 'Name', 'Nationality', 'Current Rank', 'Previous Year Rank',\n",
       "       'Sport', 'Year', 'earnings ($ million)'],\n",
       "      dtype='object')"
      ]
     },
     "execution_count": 554,
     "metadata": {},
     "output_type": "execute_result"
    }
   ],
   "source": [
    "# Nomes das colunas que representam as variáveis\n",
    "df.columns "
   ]
  },
  {
   "cell_type": "code",
   "execution_count": 555,
   "id": "777fee86-86d7-4be9-bcd4-318217ea1899",
   "metadata": {},
   "outputs": [
    {
     "name": "stdout",
     "output_type": "stream",
     "text": [
      "<class 'pandas.core.frame.DataFrame'>\n",
      "RangeIndex: 301 entries, 0 to 300\n",
      "Data columns (total 8 columns):\n",
      " #   Column                Non-Null Count  Dtype  \n",
      "---  ------                --------------  -----  \n",
      " 0   S.NO                  301 non-null    int64  \n",
      " 1   Name                  301 non-null    object \n",
      " 2   Nationality           301 non-null    object \n",
      " 3   Current Rank          301 non-null    int64  \n",
      " 4   Previous Year Rank    277 non-null    object \n",
      " 5   Sport                 301 non-null    object \n",
      " 6   Year                  301 non-null    int64  \n",
      " 7   earnings ($ million)  301 non-null    float64\n",
      "dtypes: float64(1), int64(3), object(4)\n",
      "memory usage: 18.9+ KB\n"
     ]
    }
   ],
   "source": [
    "# Tipo e contagem por coluna\n",
    "df.info() "
   ]
  },
  {
   "cell_type": "code",
   "execution_count": 556,
   "id": "d829587b-71bc-400f-9797-94125f3c3c62",
   "metadata": {},
   "outputs": [
    {
     "data": {
      "text/plain": [
       "S.NO                     0\n",
       "Name                     0\n",
       "Nationality              0\n",
       "Current Rank             0\n",
       "Previous Year Rank      24\n",
       "Sport                    0\n",
       "Year                     0\n",
       "earnings ($ million)     0\n",
       "dtype: int64"
      ]
     },
     "execution_count": 556,
     "metadata": {},
     "output_type": "execute_result"
    }
   ],
   "source": [
    "# Número de valores nulos\n",
    "df.isnull().sum() "
   ]
  },
  {
   "cell_type": "code",
   "execution_count": 557,
   "id": "250e1533-51da-4301-8d61-1f80b1fc674e",
   "metadata": {},
   "outputs": [
    {
     "data": {
      "text/plain": [
       "array([nan, '8', '1', '>30', '4', '5', '12', '6', '3', '9', '17', '13',\n",
       "       '10', '>40', '19', '40', '7', '11', '30', '22', '20', 'not ranked',\n",
       "       '38', '2', '15', '14', '26', 'none', '18', '>10', '>20', '?', '24',\n",
       "       '21', '>14', '>100', '??'], dtype=object)"
      ]
     },
     "execution_count": 557,
     "metadata": {},
     "output_type": "execute_result"
    }
   ],
   "source": [
    "# Observação dos elementos da coluna que apresentou valores nulos\n",
    "df['Previous Year Rank'].unique() "
   ]
  },
  {
   "cell_type": "markdown",
   "id": "99c89da1-4f0d-41ae-b63c-032091dee14e",
   "metadata": {},
   "source": [
    "\n",
    "## Perguntas de partida e hipóteses"
   ]
  },
  {
   "cell_type": "markdown",
   "id": "6cc8dc1b-f73d-4c59-8852-d30b048a5d02",
   "metadata": {},
   "source": [
    "Os dados estatísticos referem-se a uma listagem completa dos atletas mais bem pagos do mundo desde a primeira lista publicada pela Forbes em 1990. Baseado neles é possível estabelecer perguntas de partida a partir das correlações entre colunas, tais como:\n",
    "\n",
    "A partir dos salários é possível obter os dez esportes mais relevantes no período analisado? #1\n",
    "\n",
    "Qual esporte esteve maior tempo na primeira colocação do ranking? #2\n",
    "\n",
    "A ausência de dados pode ser prejudicial para a análise? As variáveis precisam ser padronizadas? #3\n",
    "\n",
    "HIPÓTESES: \n",
    "\n",
    "Com base nos esportes que estiveram no ranking 1, é possível analisar o crescimento/decaimento exponencial dos salários ao longo do tempo. #1\n",
    "\n",
    "É possível predizer a taxa de crescimento de salário máximo por esporte. #2\n"
   ]
  },
  {
   "cell_type": "markdown",
   "id": "3c31c1e9-df59-4a01-953a-46e1b10bc5e0",
   "metadata": {},
   "source": [
    "## Insights\n",
    "\n",
    "Informações relevantes e resposta as perguntas de partida."
   ]
  },
  {
   "cell_type": "code",
   "execution_count": 585,
   "id": "d96380bf-4f93-47ff-8e19-e5821cff6061",
   "metadata": {},
   "outputs": [
    {
     "data": {
      "text/plain": [
       "241    Floyd Mayweather\n",
       "Name: Name, dtype: object"
      ]
     },
     "execution_count": 585,
     "metadata": {},
     "output_type": "execute_result"
    }
   ],
   "source": [
    "# Atleta mais bem pago do mundo no período de 1990 a 2020.\n",
    "df.Name[df['earnings ($ million)'] == df['earnings ($ million)'].max()]"
   ]
  },
  {
   "cell_type": "code",
   "execution_count": 586,
   "id": "c703b67d-1a6b-43ce-9048-e11a73d23cf2",
   "metadata": {},
   "outputs": [
    {
     "data": {
      "text/plain": [
       "7    basketball\n",
       "8          golf\n",
       "9        boxing\n",
       "Name: Sport, dtype: object"
      ]
     },
     "execution_count": 586,
     "metadata": {},
     "output_type": "execute_result"
    }
   ],
   "source": [
    "# Esportes praticados pelos atletas que menos ganham\n",
    "df.Sport[df['earnings ($ million)'] == df['earnings ($ million)'].min()]"
   ]
  },
  {
   "cell_type": "code",
   "execution_count": 587,
   "id": "797274f8-dfcd-4d29-8a48-f838a105fa73",
   "metadata": {},
   "outputs": [
    {
     "data": {
      "text/html": [
       "<div>\n",
       "<style scoped>\n",
       "    .dataframe tbody tr th:only-of-type {\n",
       "        vertical-align: middle;\n",
       "    }\n",
       "\n",
       "    .dataframe tbody tr th {\n",
       "        vertical-align: top;\n",
       "    }\n",
       "\n",
       "    .dataframe thead th {\n",
       "        text-align: right;\n",
       "    }\n",
       "</style>\n",
       "<table border=\"1\" class=\"dataframe\">\n",
       "  <thead>\n",
       "    <tr style=\"text-align: right;\">\n",
       "      <th></th>\n",
       "      <th>S.NO</th>\n",
       "      <th>Name</th>\n",
       "      <th>Nationality</th>\n",
       "      <th>Current Rank</th>\n",
       "      <th>Previous Year Rank</th>\n",
       "      <th>Sport</th>\n",
       "      <th>Year</th>\n",
       "      <th>earnings ($ million)</th>\n",
       "    </tr>\n",
       "  </thead>\n",
       "  <tbody>\n",
       "    <tr>\n",
       "      <th>201</th>\n",
       "      <td>202</td>\n",
       "      <td>Tiger Woods</td>\n",
       "      <td>USA</td>\n",
       "      <td>1</td>\n",
       "      <td>1</td>\n",
       "      <td>golf</td>\n",
       "      <td>2011</td>\n",
       "      <td>75.0</td>\n",
       "    </tr>\n",
       "    <tr>\n",
       "      <th>211</th>\n",
       "      <td>212</td>\n",
       "      <td>Floyd Mayweather</td>\n",
       "      <td>USA</td>\n",
       "      <td>1</td>\n",
       "      <td>?</td>\n",
       "      <td>boxing</td>\n",
       "      <td>2012</td>\n",
       "      <td>85.0</td>\n",
       "    </tr>\n",
       "    <tr>\n",
       "      <th>221</th>\n",
       "      <td>222</td>\n",
       "      <td>Tiger Woods</td>\n",
       "      <td>USA</td>\n",
       "      <td>1</td>\n",
       "      <td>3</td>\n",
       "      <td>golf</td>\n",
       "      <td>2013</td>\n",
       "      <td>78.1</td>\n",
       "    </tr>\n",
       "    <tr>\n",
       "      <th>231</th>\n",
       "      <td>232</td>\n",
       "      <td>Floyd Mayweather</td>\n",
       "      <td>USA</td>\n",
       "      <td>1</td>\n",
       "      <td>14</td>\n",
       "      <td>boxing</td>\n",
       "      <td>2014</td>\n",
       "      <td>105.0</td>\n",
       "    </tr>\n",
       "    <tr>\n",
       "      <th>241</th>\n",
       "      <td>242</td>\n",
       "      <td>Floyd Mayweather</td>\n",
       "      <td>USA</td>\n",
       "      <td>1</td>\n",
       "      <td>1</td>\n",
       "      <td>boxing</td>\n",
       "      <td>2015</td>\n",
       "      <td>300.0</td>\n",
       "    </tr>\n",
       "    <tr>\n",
       "      <th>251</th>\n",
       "      <td>252</td>\n",
       "      <td>Cristiano Ronaldo</td>\n",
       "      <td>Portugal</td>\n",
       "      <td>1</td>\n",
       "      <td>3</td>\n",
       "      <td>soccer</td>\n",
       "      <td>2016</td>\n",
       "      <td>88.0</td>\n",
       "    </tr>\n",
       "    <tr>\n",
       "      <th>261</th>\n",
       "      <td>262</td>\n",
       "      <td>Cristiano Ronaldo</td>\n",
       "      <td>Portugal</td>\n",
       "      <td>1</td>\n",
       "      <td>1</td>\n",
       "      <td>soccer</td>\n",
       "      <td>2017</td>\n",
       "      <td>93.0</td>\n",
       "    </tr>\n",
       "    <tr>\n",
       "      <th>271</th>\n",
       "      <td>272</td>\n",
       "      <td>Floyd Mayweather</td>\n",
       "      <td>USA</td>\n",
       "      <td>1</td>\n",
       "      <td>&gt;100</td>\n",
       "      <td>boxing</td>\n",
       "      <td>2018</td>\n",
       "      <td>285.0</td>\n",
       "    </tr>\n",
       "    <tr>\n",
       "      <th>281</th>\n",
       "      <td>282</td>\n",
       "      <td>Lionel Messi</td>\n",
       "      <td>Argentina</td>\n",
       "      <td>1</td>\n",
       "      <td>2</td>\n",
       "      <td>soccer</td>\n",
       "      <td>2019</td>\n",
       "      <td>127.0</td>\n",
       "    </tr>\n",
       "    <tr>\n",
       "      <th>291</th>\n",
       "      <td>292</td>\n",
       "      <td>Roger Federer</td>\n",
       "      <td>Switzerland</td>\n",
       "      <td>1</td>\n",
       "      <td>5</td>\n",
       "      <td>tennis</td>\n",
       "      <td>2020</td>\n",
       "      <td>106.3</td>\n",
       "    </tr>\n",
       "  </tbody>\n",
       "</table>\n",
       "</div>"
      ],
      "text/plain": [
       "     S.NO               Name  Nationality  Current Rank Previous Year Rank  \\\n",
       "201   202        Tiger Woods          USA             1                  1   \n",
       "211   212   Floyd Mayweather          USA             1                  ?   \n",
       "221   222        Tiger Woods          USA             1                  3   \n",
       "231   232   Floyd Mayweather          USA             1                 14   \n",
       "241   242   Floyd Mayweather          USA             1                  1   \n",
       "251   252  Cristiano Ronaldo     Portugal             1                  3   \n",
       "261   262  Cristiano Ronaldo     Portugal             1                  1   \n",
       "271   272   Floyd Mayweather          USA             1               >100   \n",
       "281   282       Lionel Messi    Argentina             1                  2   \n",
       "291   292      Roger Federer  Switzerland             1                  5   \n",
       "\n",
       "      Sport  Year  earnings ($ million)  \n",
       "201    golf  2011                  75.0  \n",
       "211  boxing  2012                  85.0  \n",
       "221    golf  2013                  78.1  \n",
       "231  boxing  2014                 105.0  \n",
       "241  boxing  2015                 300.0  \n",
       "251  soccer  2016                  88.0  \n",
       "261  soccer  2017                  93.0  \n",
       "271  boxing  2018                 285.0  \n",
       "281  soccer  2019                 127.0  \n",
       "291  tennis  2020                 106.3  "
      ]
     },
     "execution_count": 587,
     "metadata": {},
     "output_type": "execute_result"
    }
   ],
   "source": [
    "# Ranking 1 nos últimos dez ano\n",
    "df[df['Current Rank'] == 1][-10:]"
   ]
  },
  {
   "cell_type": "code",
   "execution_count": 588,
   "id": "0cf2c2af-5cb8-4748-928f-06efbd41ccb4",
   "metadata": {},
   "outputs": [
    {
     "data": {
      "image/png": "[encoded data removed]",
      "text/plain": [
       "<Figure size 640x480 with 1 Axes>"
      ]
     },
     "metadata": {},
     "output_type": "display_data"
    }
   ],
   "source": [
    "#Relação salário x número de pessoas no ano de 2020\n",
    "sns.set_style(\"whitegrid\")\n",
    "\n",
    "ax = sns.histplot(data=df[df.Year == 2020], x='earnings ($ million)', color = 'grey')\n",
    "plt.ylabel('Número Pessoas')\n",
    "plt.xlabel('Renda Anual (milhões $)')\n",
    "plt.title('Salário dos atletas que mais ganharam em 2020')\n",
    "\n",
    "\n",
    "ax.set(frame_on=False)\n",
    "ax.axhline(0, color=\"k\", clip_on=False)\n",
    "plt.show()"
   ]
  },
  {
   "cell_type": "markdown",
   "id": "93da2661-2463-4a7a-bbc3-cf0219d33021",
   "metadata": {},
   "source": [
    "# #1\n",
    "Os dez esportes com maiores investimentos acumulados no período da amostra podem ser obtidos agrupando-se os esportes e acumulando os salários. "
   ]
  },
  {
   "cell_type": "code",
   "execution_count": 589,
   "id": "f08a0299-8aa3-4fd4-9376-660bc04e95dc",
   "metadata": {},
   "outputs": [
    {
     "data": {
      "text/plain": [
       "Sport\n",
       "basketball           3418.1\n",
       "boxing               2298.8\n",
       "soccer               2223.5\n",
       "golf                 2136.5\n",
       "tennis               1017.3\n",
       "american football     901.2\n",
       "f1 racing             397.0\n",
       "auto racing           386.3\n",
       "f1 motorsports        248.0\n",
       "baseball              146.1\n",
       "Name: earnings ($ million), dtype: float64"
      ]
     },
     "execution_count": 589,
     "metadata": {},
     "output_type": "execute_result"
    }
   ],
   "source": [
    "receita = df.groupby('Sport').sum()\n",
    "receita = receita.sort_values(by='earnings ($ million)', ascending=False)[:10]\n",
    "receita['earnings ($ million)']"
   ]
  },
  {
   "cell_type": "markdown",
   "id": "45597dfa-006b-4deb-9dc6-70bb0c5ef350",
   "metadata": {},
   "source": [
    "# 2# \n",
    "O esporte que esteve por maior tempo no top 1 do ranking pode ser obtido como:\n"
   ]
  },
  {
   "cell_type": "code",
   "execution_count": 590,
   "id": "c120a1f5-4125-4d69-87d1-aad9c3307b07",
   "metadata": {},
   "outputs": [
    {
     "data": {
      "text/plain": [
       "golf           11\n",
       "boxing          7\n",
       "basketball      6\n",
       "soccer          3\n",
       "auto racing     2\n",
       "tennis          1\n",
       "Name: Sport, dtype: int64"
      ]
     },
     "execution_count": 590,
     "metadata": {},
     "output_type": "execute_result"
    }
   ],
   "source": [
    "df[df['Current Rank'] == 1].Sport.value_counts()\n",
    "\n",
    "# OBS: É importante observar que temos esportes duplicados por apresentarem padrão de escrita diferentes."
   ]
  },
  {
   "cell_type": "markdown",
   "id": "9027aa39-69ad-4510-a59f-853412275198",
   "metadata": {},
   "source": [
    "# #3"
   ]
  },
  {
   "cell_type": "markdown",
   "id": "6cc4f93e-e451-4969-934d-2a131ebefa7a",
   "metadata": {},
   "source": [
    "A ausência de dados só é prejucial se representar significativo percentual de dados da amostra. Existem formas de preencher os dados, porém nem sempre esta será a melhor alternativa em virtude de outliers ou por ser uma variável que não pode ser predita. Além disso, se a correlação não utilizar a variável envolvida, esta pode ser desprezada.\n",
    "\n",
    "É importante que os dados apresentem um padrão, uma vez que variáveis iguais, mas com padrões de escrita diferentes são entendidas como distintas. Ex: 'Golf' e 'golf'; 'Basketball' e 'basquetball'; 'Box' e 'box'.\n",
    "Surge então a necessidade de se fazer um pré processamento dos dados antes das análises a fim de padronizá-los. Caso do presente arquivo de dados."
   ]
  },
  {
   "cell_type": "markdown",
   "id": "edcb1769-1ec3-4e16-be5a-b6a7dbf48195",
   "metadata": {},
   "source": [
    "# # RESPOSTA AS HIPÓTESES\n",
    "Com o agrupamento anual dos salários por esporte em um gráfico de linhas é possível observar o crescimento/decaimento ao longo do tempo.\n",
    "\n",
    "\n",
    "A partir de uma regressão matemática é possível estimar a progressão dos salários por esporte para determinado ano. "
   ]
  }
 ],
 "metadata": {
  "kernelspec": {
   "display_name": "Python 3 (ipykernel)",
   "language": "python",
   "name": "python3"
  },
  "language_info": {
   "codemirror_mode": {
    "name": "ipython",
    "version": 3
   },
   "file_extension": ".py",
   "mimetype": "text/x-python",
   "name": "python",
   "nbconvert_exporter": "python",
   "pygments_lexer": "ipython3",
   "version": "3.8.10"
  }
 },
 "nbformat": 4,
 "nbformat_minor": 5
}
