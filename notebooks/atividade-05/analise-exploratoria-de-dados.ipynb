{
 "cells": [
  {
   "cell_type": "markdown",
   "id": "2cc2fc55-1b20-4eba-9345-38343edc529f",
   "metadata": {},
   "source": [
    "# Análise exploratória de dados"
   ]
  },
  {
   "cell_type": "markdown",
   "id": "8fd1e3db-b131-42cb-bf02-06ef2b9e243b",
   "metadata": {},
   "source": [
    "## Carregar bibliotecas"
   ]
  },
  {
   "cell_type": "code",
   "execution_count": 72,
   "id": "c618f9ca-040f-4f9c-b445-649721576c3a",
   "metadata": {},
   "outputs": [],
   "source": [
    "from matplotlib import pyplot as plt\n",
    "import seaborn as sns\n",
    "import pandas as pd "
   ]
  },
  {
   "cell_type": "markdown",
   "id": "32bc893e-028f-4976-8a7d-844ceaf90cd3",
   "metadata": {},
   "source": [
    "## Dicionário de dados"
   ]
  },
  {
   "cell_type": "code",
   "execution_count": 141,
   "id": "487a45af-8461-4c49-b20d-4b9fa528863f",
   "metadata": {},
   "outputs": [
    {
     "data": {
      "text/html": [
       "<style type=\"text/css\">\n",
       "#T_d0b1b_row0_col0, #T_d0b1b_row0_col1, #T_d0b1b_row0_col2, #T_d0b1b_row1_col0, #T_d0b1b_row1_col1, #T_d0b1b_row1_col2, #T_d0b1b_row2_col0, #T_d0b1b_row2_col1, #T_d0b1b_row2_col2, #T_d0b1b_row3_col0, #T_d0b1b_row3_col1, #T_d0b1b_row3_col2, #T_d0b1b_row4_col0, #T_d0b1b_row4_col1, #T_d0b1b_row4_col2, #T_d0b1b_row5_col0, #T_d0b1b_row5_col1, #T_d0b1b_row5_col2, #T_d0b1b_row6_col0, #T_d0b1b_row6_col1, #T_d0b1b_row6_col2, #T_d0b1b_row7_col0, #T_d0b1b_row7_col1, #T_d0b1b_row7_col2 {\n",
       "  text-align: left;\n",
       "}\n",
       "</style>\n",
       "<table id=\"T_d0b1b\">\n",
       "  <thead>\n",
       "    <tr>\n",
       "      <th class=\"blank level0\" >&nbsp;</th>\n",
       "      <th id=\"T_d0b1b_level0_col0\" class=\"col_heading level0 col0\" >variaveis</th>\n",
       "      <th id=\"T_d0b1b_level0_col1\" class=\"col_heading level0 col1\" >significado</th>\n",
       "      <th id=\"T_d0b1b_level0_col2\" class=\"col_heading level0 col2\" >tipo</th>\n",
       "    </tr>\n",
       "  </thead>\n",
       "  <tbody>\n",
       "    <tr>\n",
       "      <th id=\"T_d0b1b_level0_row0\" class=\"row_heading level0 row0\" >0</th>\n",
       "      <td id=\"T_d0b1b_row0_col0\" class=\"data row0 col0\" >S.NO</td>\n",
       "      <td id=\"T_d0b1b_row0_col1\" class=\"data row0 col1\" >Contador</td>\n",
       "      <td id=\"T_d0b1b_row0_col2\" class=\"data row0 col2\" >nominal</td>\n",
       "    </tr>\n",
       "    <tr>\n",
       "      <th id=\"T_d0b1b_level0_row1\" class=\"row_heading level0 row1\" >1</th>\n",
       "      <td id=\"T_d0b1b_row1_col0\" class=\"data row1 col0\" >Name</td>\n",
       "      <td id=\"T_d0b1b_row1_col1\" class=\"data row1 col1\" >Nome do atleta</td>\n",
       "      <td id=\"T_d0b1b_row1_col2\" class=\"data row1 col2\" >nominal</td>\n",
       "    </tr>\n",
       "    <tr>\n",
       "      <th id=\"T_d0b1b_level0_row2\" class=\"row_heading level0 row2\" >2</th>\n",
       "      <td id=\"T_d0b1b_row2_col0\" class=\"data row2 col0\" >Nationality</td>\n",
       "      <td id=\"T_d0b1b_row2_col1\" class=\"data row2 col1\" >País de nascimento ['USA', 'Brazil', 'France', 'Australia', 'Canada', 'UK', 'Austria', 'Germany', 'Russia', 'Italy', 'Finland', 'Switzerland', 'Philippines', 'Portugal', 'Dominican', 'Argentina', 'Filipino', 'Spain', 'Serbia', 'Northern Ireland', 'Ireland', 'Mexico']</td>\n",
       "      <td id=\"T_d0b1b_row2_col2\" class=\"data row2 col2\" >nominal</td>\n",
       "    </tr>\n",
       "    <tr>\n",
       "      <th id=\"T_d0b1b_level0_row3\" class=\"row_heading level0 row3\" >3</th>\n",
       "      <td id=\"T_d0b1b_row3_col0\" class=\"data row3 col0\" >Current Rank</td>\n",
       "      <td id=\"T_d0b1b_row3_col1\" class=\"data row3 col1\" >Classificação atual do atleta [1, 2, 3, 4, 5, 6, 7, 8, 9, 10]</td>\n",
       "      <td id=\"T_d0b1b_row3_col2\" class=\"data row3 col2\" >ordinal</td>\n",
       "    </tr>\n",
       "    <tr>\n",
       "      <th id=\"T_d0b1b_level0_row4\" class=\"row_heading level0 row4\" >4</th>\n",
       "      <td id=\"T_d0b1b_row4_col0\" class=\"data row4 col0\" >Previous Year Ranking</td>\n",
       "      <td id=\"T_d0b1b_row4_col1\" class=\"data row4 col1\" >Classificação do ano anterior</td>\n",
       "      <td id=\"T_d0b1b_row4_col2\" class=\"data row4 col2\" >nominal</td>\n",
       "    </tr>\n",
       "    <tr>\n",
       "      <th id=\"T_d0b1b_level0_row5\" class=\"row_heading level0 row5\" >5</th>\n",
       "      <td id=\"T_d0b1b_row5_col0\" class=\"data row5 col0\" >Sport</td>\n",
       "      <td id=\"T_d0b1b_row5_col1\" class=\"data row5 col1\" >Esporte praticado ['boxing', 'auto racing', 'golf', 'basketball', 'Basketball', 'Boxing', 'Auto Racing', 'Golf', 'Tennis', 'NFL', 'Auto racing', 'NBA', 'Baseball', 'Ice Hockey', 'American Football / Baseball', 'tennis', 'ice hockey', 'F1 Motorsports', 'NASCAR', 'Hockey', 'Auto Racing (Nascar)', 'F1 racing', 'American Football', 'soccer', 'baseball', 'cycling', 'motorcycle gp', 'Soccer', 'MMA']</td>\n",
       "      <td id=\"T_d0b1b_row5_col2\" class=\"data row5 col2\" >nominal</td>\n",
       "    </tr>\n",
       "    <tr>\n",
       "      <th id=\"T_d0b1b_level0_row6\" class=\"row_heading level0 row6\" >6</th>\n",
       "      <td id=\"T_d0b1b_row6_col0\" class=\"data row6 col0\" >Year</td>\n",
       "      <td id=\"T_d0b1b_row6_col1\" class=\"data row6 col1\" >Ano da competição [1990 - 2020]</td>\n",
       "      <td id=\"T_d0b1b_row6_col2\" class=\"data row6 col2\" >ordinal</td>\n",
       "    </tr>\n",
       "    <tr>\n",
       "      <th id=\"T_d0b1b_level0_row7\" class=\"row_heading level0 row7\" >7</th>\n",
       "      <td id=\"T_d0b1b_row7_col0\" class=\"data row7 col0\" >earnings ($million)</td>\n",
       "      <td id=\"T_d0b1b_row7_col1\" class=\"data row7 col1\" >Ganho em milhões de dólares</td>\n",
       "      <td id=\"T_d0b1b_row7_col2\" class=\"data row7 col2\" >ordinal</td>\n",
       "    </tr>\n",
       "  </tbody>\n",
       "</table>\n"
      ],
      "text/plain": [
       "<pandas.io.formats.style.Styler at 0x7f24995091c0>"
      ]
     },
     "execution_count": 141,
     "metadata": {},
     "output_type": "execute_result"
    }
   ],
   "source": [
    "dicionario_dados = pd.read_csv('../../data/external/dicionario_atividade-05.csv', delimiter = ',')\n",
    "dicionario_dados = dicionario_dados.style.set_properties(**{'text-align': 'left'})\n",
    "dicionario_dados"
   ]
  },
  {
   "cell_type": "markdown",
   "id": "7612c797-8375-483a-8dae-108e0b60ff6f",
   "metadata": {},
   "source": [
    "## Leitura do arquivo de dados"
   ]
  },
  {
   "cell_type": "code",
   "execution_count": 129,
   "id": "91f9764d-0606-4920-9008-9ab739dc7266",
   "metadata": {},
   "outputs": [
    {
     "data": {
      "text/html": [
       "<div>\n",
       "<style scoped>\n",
       "    .dataframe tbody tr th:only-of-type {\n",
       "        vertical-align: middle;\n",
       "    }\n",
       "\n",
       "    .dataframe tbody tr th {\n",
       "        vertical-align: top;\n",
       "    }\n",
       "\n",
       "    .dataframe thead th {\n",
       "        text-align: right;\n",
       "    }\n",
       "</style>\n",
       "<table border=\"1\" class=\"dataframe\">\n",
       "  <thead>\n",
       "    <tr style=\"text-align: right;\">\n",
       "      <th></th>\n",
       "      <th>S.NO</th>\n",
       "      <th>Name</th>\n",
       "      <th>Nationality</th>\n",
       "      <th>Current Rank</th>\n",
       "      <th>Previous Year Rank</th>\n",
       "      <th>Sport</th>\n",
       "      <th>Year</th>\n",
       "      <th>earnings ($ million)</th>\n",
       "    </tr>\n",
       "  </thead>\n",
       "  <tbody>\n",
       "    <tr>\n",
       "      <th>0</th>\n",
       "      <td>1</td>\n",
       "      <td>Mike Tyson</td>\n",
       "      <td>USA</td>\n",
       "      <td>1</td>\n",
       "      <td>NaN</td>\n",
       "      <td>boxing</td>\n",
       "      <td>1990</td>\n",
       "      <td>28.6</td>\n",
       "    </tr>\n",
       "    <tr>\n",
       "      <th>1</th>\n",
       "      <td>2</td>\n",
       "      <td>Buster Douglas</td>\n",
       "      <td>USA</td>\n",
       "      <td>2</td>\n",
       "      <td>NaN</td>\n",
       "      <td>boxing</td>\n",
       "      <td>1990</td>\n",
       "      <td>26.0</td>\n",
       "    </tr>\n",
       "    <tr>\n",
       "      <th>2</th>\n",
       "      <td>3</td>\n",
       "      <td>Sugar Ray Leonard</td>\n",
       "      <td>USA</td>\n",
       "      <td>3</td>\n",
       "      <td>NaN</td>\n",
       "      <td>boxing</td>\n",
       "      <td>1990</td>\n",
       "      <td>13.0</td>\n",
       "    </tr>\n",
       "    <tr>\n",
       "      <th>3</th>\n",
       "      <td>4</td>\n",
       "      <td>Ayrton Senna</td>\n",
       "      <td>Brazil</td>\n",
       "      <td>4</td>\n",
       "      <td>NaN</td>\n",
       "      <td>auto racing</td>\n",
       "      <td>1990</td>\n",
       "      <td>10.0</td>\n",
       "    </tr>\n",
       "    <tr>\n",
       "      <th>4</th>\n",
       "      <td>5</td>\n",
       "      <td>Alain Prost</td>\n",
       "      <td>France</td>\n",
       "      <td>5</td>\n",
       "      <td>NaN</td>\n",
       "      <td>auto racing</td>\n",
       "      <td>1990</td>\n",
       "      <td>9.0</td>\n",
       "    </tr>\n",
       "  </tbody>\n",
       "</table>\n",
       "</div>"
      ],
      "text/plain": [
       "   S.NO               Name Nationality  Current Rank Previous Year Rank  \\\n",
       "0     1         Mike Tyson         USA             1                NaN   \n",
       "1     2     Buster Douglas         USA             2                NaN   \n",
       "2     3  Sugar Ray Leonard         USA             3                NaN   \n",
       "3     4       Ayrton Senna      Brazil             4                NaN   \n",
       "4     5        Alain Prost      France             5                NaN   \n",
       "\n",
       "         Sport  Year  earnings ($ million)  \n",
       "0       boxing  1990                  28.6  \n",
       "1       boxing  1990                  26.0  \n",
       "2       boxing  1990                  13.0  \n",
       "3  auto racing  1990                  10.0  \n",
       "4  auto racing  1990                   9.0  "
      ]
     },
     "execution_count": 129,
     "metadata": {},
     "output_type": "execute_result"
    }
   ],
   "source": [
    "df = pd.read_csv('../../data/raw/Forbes_Richest_Atheletes_(Forbes_Richest_Athletes_1990-2020).csv', delimiter = ',')\n",
    "df.head()"
   ]
  },
  {
   "cell_type": "markdown",
   "id": "f823b252-d8ea-49dd-b1bf-81e397080204",
   "metadata": {},
   "source": [
    "## Descrição dos dados"
   ]
  },
  {
   "cell_type": "code",
   "execution_count": 133,
   "id": "0849a2cb-e6fc-4085-be71-df725d74f8f2",
   "metadata": {},
   "outputs": [
    {
     "data": {
      "text/html": [
       "<div>\n",
       "<style scoped>\n",
       "    .dataframe tbody tr th:only-of-type {\n",
       "        vertical-align: middle;\n",
       "    }\n",
       "\n",
       "    .dataframe tbody tr th {\n",
       "        vertical-align: top;\n",
       "    }\n",
       "\n",
       "    .dataframe thead th {\n",
       "        text-align: right;\n",
       "    }\n",
       "</style>\n",
       "<table border=\"1\" class=\"dataframe\">\n",
       "  <thead>\n",
       "    <tr style=\"text-align: right;\">\n",
       "      <th></th>\n",
       "      <th>S.NO</th>\n",
       "      <th>Current Rank</th>\n",
       "      <th>Year</th>\n",
       "      <th>earnings ($ million)</th>\n",
       "    </tr>\n",
       "  </thead>\n",
       "  <tbody>\n",
       "    <tr>\n",
       "      <th>count</th>\n",
       "      <td>301.000000</td>\n",
       "      <td>301.000000</td>\n",
       "      <td>301.000000</td>\n",
       "      <td>301.000000</td>\n",
       "    </tr>\n",
       "    <tr>\n",
       "      <th>mean</th>\n",
       "      <td>151.000000</td>\n",
       "      <td>5.448505</td>\n",
       "      <td>2005.122924</td>\n",
       "      <td>45.516279</td>\n",
       "    </tr>\n",
       "    <tr>\n",
       "      <th>std</th>\n",
       "      <td>87.035433</td>\n",
       "      <td>2.850995</td>\n",
       "      <td>9.063563</td>\n",
       "      <td>33.525337</td>\n",
       "    </tr>\n",
       "    <tr>\n",
       "      <th>min</th>\n",
       "      <td>1.000000</td>\n",
       "      <td>1.000000</td>\n",
       "      <td>1990.000000</td>\n",
       "      <td>8.100000</td>\n",
       "    </tr>\n",
       "    <tr>\n",
       "      <th>25%</th>\n",
       "      <td>76.000000</td>\n",
       "      <td>3.000000</td>\n",
       "      <td>1997.000000</td>\n",
       "      <td>24.000000</td>\n",
       "    </tr>\n",
       "    <tr>\n",
       "      <th>50%</th>\n",
       "      <td>151.000000</td>\n",
       "      <td>5.000000</td>\n",
       "      <td>2005.000000</td>\n",
       "      <td>39.000000</td>\n",
       "    </tr>\n",
       "    <tr>\n",
       "      <th>75%</th>\n",
       "      <td>226.000000</td>\n",
       "      <td>8.000000</td>\n",
       "      <td>2013.000000</td>\n",
       "      <td>59.400000</td>\n",
       "    </tr>\n",
       "    <tr>\n",
       "      <th>max</th>\n",
       "      <td>301.000000</td>\n",
       "      <td>10.000000</td>\n",
       "      <td>2020.000000</td>\n",
       "      <td>300.000000</td>\n",
       "    </tr>\n",
       "  </tbody>\n",
       "</table>\n",
       "</div>"
      ],
      "text/plain": [
       "             S.NO  Current Rank         Year  earnings ($ million)\n",
       "count  301.000000    301.000000   301.000000            301.000000\n",
       "mean   151.000000      5.448505  2005.122924             45.516279\n",
       "std     87.035433      2.850995     9.063563             33.525337\n",
       "min      1.000000      1.000000  1990.000000              8.100000\n",
       "25%     76.000000      3.000000  1997.000000             24.000000\n",
       "50%    151.000000      5.000000  2005.000000             39.000000\n",
       "75%    226.000000      8.000000  2013.000000             59.400000\n",
       "max    301.000000     10.000000  2020.000000            300.000000"
      ]
     },
     "execution_count": 133,
     "metadata": {},
     "output_type": "execute_result"
    }
   ],
   "source": [
    "# Estatísticas de cada coluna\n",
    "df.describe() "
   ]
  },
  {
   "cell_type": "code",
   "execution_count": 134,
   "id": "9d4e58ba-d5e1-4ed5-938d-d6ed1d7b04fa",
   "metadata": {},
   "outputs": [
    {
     "data": {
      "text/plain": [
       "(301, 8)"
      ]
     },
     "execution_count": 134,
     "metadata": {},
     "output_type": "execute_result"
    }
   ],
   "source": [
    "# Quantidade de linhas x colunas\n",
    "df.shape "
   ]
  },
  {
   "cell_type": "code",
   "execution_count": 135,
   "id": "2b0a4930-9cb0-4616-ae1a-16d247aa91be",
   "metadata": {},
   "outputs": [
    {
     "data": {
      "text/plain": [
       "Index(['S.NO', 'Name', 'Nationality', 'Current Rank', 'Previous Year Rank',\n",
       "       'Sport', 'Year', 'earnings ($ million)'],\n",
       "      dtype='object')"
      ]
     },
     "execution_count": 135,
     "metadata": {},
     "output_type": "execute_result"
    }
   ],
   "source": [
    "# Nomes das colunas que representam as variáveis\n",
    "df.columns "
   ]
  },
  {
   "cell_type": "code",
   "execution_count": 136,
   "id": "777fee86-86d7-4be9-bcd4-318217ea1899",
   "metadata": {},
   "outputs": [
    {
     "name": "stdout",
     "output_type": "stream",
     "text": [
      "<class 'pandas.core.frame.DataFrame'>\n",
      "RangeIndex: 301 entries, 0 to 300\n",
      "Data columns (total 8 columns):\n",
      " #   Column                Non-Null Count  Dtype  \n",
      "---  ------                --------------  -----  \n",
      " 0   S.NO                  301 non-null    int64  \n",
      " 1   Name                  301 non-null    object \n",
      " 2   Nationality           301 non-null    object \n",
      " 3   Current Rank          301 non-null    int64  \n",
      " 4   Previous Year Rank    277 non-null    object \n",
      " 5   Sport                 301 non-null    object \n",
      " 6   Year                  301 non-null    int64  \n",
      " 7   earnings ($ million)  301 non-null    float64\n",
      "dtypes: float64(1), int64(3), object(4)\n",
      "memory usage: 18.9+ KB\n"
     ]
    }
   ],
   "source": [
    "# Tipo e contagem por coluna\n",
    "df.info() "
   ]
  },
  {
   "cell_type": "code",
   "execution_count": 138,
   "id": "d829587b-71bc-400f-9797-94125f3c3c62",
   "metadata": {},
   "outputs": [
    {
     "data": {
      "text/plain": [
       "S.NO                     0\n",
       "Name                     0\n",
       "Nationality              0\n",
       "Current Rank             0\n",
       "Previous Year Rank      24\n",
       "Sport                    0\n",
       "Year                     0\n",
       "earnings ($ million)     0\n",
       "dtype: int64"
      ]
     },
     "execution_count": 138,
     "metadata": {},
     "output_type": "execute_result"
    }
   ],
   "source": [
    "# Número de valores nulos\n",
    "df.isnull().sum() "
   ]
  },
  {
   "cell_type": "code",
   "execution_count": 139,
   "id": "250e1533-51da-4301-8d61-1f80b1fc674e",
   "metadata": {},
   "outputs": [
    {
     "data": {
      "text/plain": [
       "array([nan, '8', '1', '>30', '4', '5', '12', '6', '3', '9', '17', '13',\n",
       "       '10', '>40', '19', '40', '7', '11', '30', '22', '20', 'not ranked',\n",
       "       '38', '2', '15', '14', '26', 'none', '18', '>10', '>20', '?', '24',\n",
       "       '21', '>14', '>100', '??'], dtype=object)"
      ]
     },
     "execution_count": 139,
     "metadata": {},
     "output_type": "execute_result"
    }
   ],
   "source": [
    "# Observação dos elementos da coluna que apresentou valores nulos\n",
    "df['Previous Year Rank'].unique() "
   ]
  },
  {
   "cell_type": "markdown",
   "id": "99c89da1-4f0d-41ae-b63c-032091dee14e",
   "metadata": {},
   "source": [
    "## Perguntas de partida e hipóteses"
   ]
  },
  {
   "cell_type": "code",
   "execution_count": null,
   "id": "8ed5cb6b-0c85-4f62-8a55-3ae4cfb4b73d",
   "metadata": {},
   "outputs": [],
   "source": [
    "# A partir dos salários é possível obter os dez esportes mais relevantes no período analisado? #1\n",
    "\n",
    "# Qual esporte apresentou maior decaimento salarial ao longo do tempo? #2\n",
    "\n",
    "# HIPÓTESE: Com o crescimento dos salários ao longo do tempo é possível predizer o salário máximo de cada esporte ao longo dos próximos 10 anos.\n"
   ]
  },
  {
   "cell_type": "markdown",
   "id": "3c31c1e9-df59-4a01-953a-46e1b10bc5e0",
   "metadata": {},
   "source": [
    "## Insights"
   ]
  },
  {
   "cell_type": "code",
   "execution_count": 158,
   "id": "d96380bf-4f93-47ff-8e19-e5821cff6061",
   "metadata": {},
   "outputs": [
    {
     "data": {
      "text/plain": [
       "241    Floyd Mayweather\n",
       "Name: Name, dtype: object"
      ]
     },
     "execution_count": 158,
     "metadata": {},
     "output_type": "execute_result"
    }
   ],
   "source": [
    "# Atleta mais bem pago do mundo no período de 1990 a 2020\n",
    "df.Name[df['earnings ($ million)'] == df['earnings ($ million)'].max()]"
   ]
  },
  {
   "cell_type": "code",
   "execution_count": 159,
   "id": "c703b67d-1a6b-43ce-9048-e11a73d23cf2",
   "metadata": {},
   "outputs": [
    {
     "data": {
      "text/plain": [
       "7    basketball\n",
       "8          golf\n",
       "9        boxing\n",
       "Name: Sport, dtype: object"
      ]
     },
     "execution_count": 159,
     "metadata": {},
     "output_type": "execute_result"
    }
   ],
   "source": [
    "# Esportes praticados pelos atletas que menos ganham\n",
    "df.Sport[df['earnings ($ million)'] == df['earnings ($ million)'].min()]"
   ]
  },
  {
   "cell_type": "markdown",
   "id": "93da2661-2463-4a7a-bbc3-cf0219d33021",
   "metadata": {},
   "source": [
    "# Os dez esportes com maiores investimentos acumulados no período da amostra podem ser obtidos agrupando-se os esportes e acumulando os salários #1"
   ]
  },
  {
   "cell_type": "code",
   "execution_count": 242,
   "id": "f08a0299-8aa3-4fd4-9376-660bc04e95dc",
   "metadata": {},
   "outputs": [
    {
     "data": {
      "text/plain": [
       "Sport\n",
       "Basketball           2477.5\n",
       "Soccer               1816.0\n",
       "Boxing               1743.2\n",
       "golf                 1086.9\n",
       "Golf                 1049.6\n",
       "basketball            940.6\n",
       "American Football     901.2\n",
       "Tennis                848.1\n",
       "boxing                555.6\n",
       "soccer                407.5\n",
       "Name: earnings ($ million), dtype: float64"
      ]
     },
     "execution_count": 242,
     "metadata": {},
     "output_type": "execute_result"
    }
   ],
   "source": [
    "receita = df.groupby('Sport').sum()\n",
    "receita = receita.sort_values(by='earnings ($ million)', ascending=False)[:10]\n",
    "receita['earnings ($ million)']"
   ]
  },
  {
   "cell_type": "markdown",
   "id": "45597dfa-006b-4deb-9dc6-70bb0c5ef350",
   "metadata": {},
   "source": [
    "## O esporte que apresentou maior decaimento salarial ao longo do tempo pode ser obtido com base na diferença do ranking dos maiores salários do primeiro e último ano da amostra #2\n"
   ]
  },
  {
   "cell_type": "markdown",
   "id": "edcb1769-1ec3-4e16-be5a-b6a7dbf48195",
   "metadata": {},
   "source": [
    "## HIPÓTESE: A partir de uma regressão matemática é possível estimar a progressão dos salários por esporte para determinado ano. "
   ]
  }
 ],
 "metadata": {
  "kernelspec": {
   "display_name": "Python 3 (ipykernel)",
   "language": "python",
   "name": "python3"
  },
  "language_info": {
   "codemirror_mode": {
    "name": "ipython",
    "version": 3
   },
   "file_extension": ".py",
   "mimetype": "text/x-python",
   "name": "python",
   "nbconvert_exporter": "python",
   "pygments_lexer": "ipython3",
   "version": "3.8.10"
  }
 },
 "nbformat": 4,
 "nbformat_minor": 5
}
